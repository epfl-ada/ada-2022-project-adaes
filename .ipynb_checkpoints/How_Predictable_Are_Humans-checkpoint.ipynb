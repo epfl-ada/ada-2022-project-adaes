{
 "cells": [
  {
   "cell_type": "markdown",
   "id": "fc373ed1",
   "metadata": {},
   "source": [
    "# How Predictable are Humans ? (ADAes Team) "
   ]
  },
  {
   "cell_type": "markdown",
   "id": "7b80aa82",
   "metadata": {},
   "source": [
    "Wikispeedia is a game based on Wikipedia, where players are given a start and end article and they must reach their goal in the fastest time possible only by using Wikipedia hyperlinks.\n",
    "\n",
    "This study aims at analysing players strategies in order to leverage out insightful conclusions about their navigational behaviour."
   ]
  },
  {
   "cell_type": "markdown",
   "id": "bb061b9c",
   "metadata": {},
   "source": [
    "Table of content :  \n",
    "1. [Can this behaviour be generalised](#1.-Can-this-behaviour-be-generalised-?) \n",
    "2. [What is the semantic meaning of these paths](#2.-What-is-the-semantic-meaning-of-these-paths-?)\n",
    "3. [Is this strategy optimal?](#3.-Is-this-strategy-optimal-?)"
   ]
  },
  {
   "cell_type": "code",
   "execution_count": 1,
   "id": "20ae1bba",
   "metadata": {},
   "outputs": [],
   "source": [
    "# Import packages "
   ]
  },
  {
   "cell_type": "code",
   "execution_count": 2,
   "id": "b6cd4a85",
   "metadata": {},
   "outputs": [],
   "source": [
    "# Import data "
   ]
  },
  {
   "cell_type": "markdown",
   "id": "79c9e7b6",
   "metadata": {},
   "source": [
    "# 1. Can this behaviour be generalised ?"
   ]
  },
  {
   "cell_type": "markdown",
   "id": "a698523c",
   "metadata": {},
   "source": [
    "## 1.1 Are the most central nodes the most visited ones ? "
   ]
  },
  {
   "cell_type": "code",
   "execution_count": 4,
   "id": "7ee3e92a",
   "metadata": {},
   "outputs": [],
   "source": [
    "# Investigate different centrality measures to be used \n",
    "\n",
    "def get_out_degree(G, node_id): \n",
    "    pass\n",
    "\n",
    "def get_closeness(G, node_id):\n",
    "    pass\n",
    "\n",
    "def get_page_rank(G, node_id):\n",
    "    pass"
   ]
  },
  {
   "cell_type": "code",
   "execution_count": 5,
   "id": "6ec97f14",
   "metadata": {},
   "outputs": [],
   "source": [
    "# Rank nodes according to best centrality measure\n",
    "\n",
    "def rank_nodes(G, n, centrality_measure):\n",
    "    pass"
   ]
  },
  {
   "cell_type": "markdown",
   "id": "4c19436f",
   "metadata": {},
   "source": [
    "## 1.2 What is the evolution of the centrality of the nodes visited in the path ?"
   ]
  },
  {
   "cell_type": "code",
   "execution_count": 6,
   "id": "0452176e",
   "metadata": {},
   "outputs": [],
   "source": [
    "# Plot the evolution of the chosen metric by each hop of the paths"
   ]
  },
  {
   "cell_type": "code",
   "execution_count": 7,
   "id": "da402657",
   "metadata": {},
   "outputs": [],
   "source": [
    "# Draw statistical conclusions : Is the proposed behaviour generalisable?"
   ]
  },
  {
   "cell_type": "markdown",
   "id": "5e74728b",
   "metadata": {},
   "source": [
    "# 2. What is the semantic meaning of these paths ?"
   ]
  },
  {
   "cell_type": "markdown",
   "id": "413095f1",
   "metadata": {},
   "source": [
    "## 2.1 Are the players getting closer to the goal according to the shortest path metric ?\n"
   ]
  },
  {
   "cell_type": "code",
   "execution_count": 8,
   "id": "17b2af49",
   "metadata": {},
   "outputs": [],
   "source": [
    "# We define the distance metric as the shortest path distance from point to the end article\n",
    "\n",
    "def get_shortest_path(df_shortest_paths, start, end):\n",
    "    pass"
   ]
  },
  {
   "cell_type": "code",
   "execution_count": 9,
   "id": "cc3999e3",
   "metadata": {},
   "outputs": [],
   "source": [
    "# Plot the evolution of the metric as we progress through the path"
   ]
  },
  {
   "cell_type": "markdown",
   "id": "d124eed0",
   "metadata": {},
   "source": [
    "## 2.2 Does shortest path reflect semantic closeness/similarity ?"
   ]
  },
  {
   "cell_type": "code",
   "execution_count": null,
   "id": "888dd3d0",
   "metadata": {},
   "outputs": [],
   "source": [
    "# Import Pre-trained Bert\n",
    "model = SentenceTransformer('paraphrase-multilingual-mpnet-base-v2')\n",
    "\n",
    "# UMAP instance for dimentionnality reduction\n",
    "umap_model = umap.UMAP(n_neighbors=15, n_components=5, metric='cosine', low_memory=False)\n",
    "\n",
    "# HDBSCAN instance for clustering\n",
    "hdbscan_model = hdbscan.HDBSCAN(min_cluster_size=200, metric='euclidean', prediction_data=True)\n",
    "\n",
    "# Topic Model for embedding\n",
    "topic_model = BERTopic(embedding_model=model,umap_model = umap_model, hdbscan_model = hdbscan_model)\n"
   ]
  },
  {
   "cell_type": "code",
   "execution_count": null,
   "id": "25d8721d",
   "metadata": {},
   "outputs": [],
   "source": [
    "# Embed all article pages and retrieve topics\n",
    "\n",
    "def embed_articles(df_articles,model):\n",
    "    pass"
   ]
  },
  {
   "cell_type": "code",
   "execution_count": 10,
   "id": "e8bb53f8",
   "metadata": {},
   "outputs": [],
   "source": [
    "# Compute cosine similarity between embedded vectors to yield semantic closeness\n",
    "\n",
    "# This function will compute similarities between all page hops and the target article using transformers cos_sim  \n",
    "def compute_cosine_similarity(list_of_articles, target_article):\n",
    "    pass"
   ]
  },
  {
   "cell_type": "code",
   "execution_count": 11,
   "id": "0cc1a7d6",
   "metadata": {},
   "outputs": [],
   "source": [
    "# Plot the evolution of the semantic closeness as we progress through the path "
   ]
  },
  {
   "cell_type": "code",
   "execution_count": 12,
   "id": "76b6be3c",
   "metadata": {},
   "outputs": [],
   "source": [
    "# Investigate whether or not the shortest path reflects semantic closeness between consecutive hops"
   ]
  },
  {
   "cell_type": "markdown",
   "id": "4bd1289c",
   "metadata": {},
   "source": [
    "## 2.3 Is the player getting semantically closer to the goal ?"
   ]
  },
  {
   "cell_type": "code",
   "execution_count": 14,
   "id": "248a39a9",
   "metadata": {},
   "outputs": [],
   "source": [
    "# Are the players getting semantically closer to the destination by each hop they take"
   ]
  },
  {
   "cell_type": "code",
   "execution_count": 15,
   "id": "1e7d8dd3",
   "metadata": {},
   "outputs": [],
   "source": [
    "# Plot the evolution of the semantic closeness from each hop to the target page as we progress through the path"
   ]
  },
  {
   "cell_type": "code",
   "execution_count": 16,
   "id": "240cf8b3",
   "metadata": {},
   "outputs": [],
   "source": [
    "# Observe and draw conclusion on players' behaviour"
   ]
  },
  {
   "cell_type": "markdown",
   "id": "b4032749",
   "metadata": {},
   "source": [
    "# 3. Is this strategy optimal ? "
   ]
  },
  {
   "cell_type": "markdown",
   "id": "3a25afd6",
   "metadata": {},
   "source": [
    "## 3.1 Is this strategy the one that yields the most winner paths ? "
   ]
  },
  {
   "cell_type": "code",
   "execution_count": 17,
   "id": "90e0e580",
   "metadata": {},
   "outputs": [],
   "source": [
    "# Is this strategy the one that yields the most winner paths?"
   ]
  },
  {
   "cell_type": "code",
   "execution_count": 18,
   "id": "d4a90757",
   "metadata": {},
   "outputs": [],
   "source": [
    "# Here compute same procedure to loosing games "
   ]
  },
  {
   "cell_type": "code",
   "execution_count": 19,
   "id": "94868003",
   "metadata": {},
   "outputs": [],
   "source": [
    "# Compute overall success rate of the strategy\n",
    "\n",
    "# This function filters out functions\n",
    "def get_path_strategy(startegy, list_all_paths):\n",
    "    pass\n",
    "\n",
    "# In this case, we intend on feeding the function with already filtered paths that follow the strategy of interest\n",
    "def success_rate(list_winner_paths, list_looser_paths):\n",
    "    pass"
   ]
  },
  {
   "cell_type": "code",
   "execution_count": null,
   "id": "7ff28a55",
   "metadata": {},
   "outputs": [],
   "source": [
    "# Wrap up and draw final conclusions about predictability of human behaviour"
   ]
  }
 ],
 "metadata": {
  "kernelspec": {
   "display_name": "Python 3 (ipykernel)",
   "language": "python",
   "name": "python3"
  },
  "language_info": {
   "codemirror_mode": {
    "name": "ipython",
    "version": 3
   },
   "file_extension": ".py",
   "mimetype": "text/x-python",
   "name": "python",
   "nbconvert_exporter": "python",
   "pygments_lexer": "ipython3",
   "version": "3.9.7"
  }
 },
 "nbformat": 4,
 "nbformat_minor": 5
}
