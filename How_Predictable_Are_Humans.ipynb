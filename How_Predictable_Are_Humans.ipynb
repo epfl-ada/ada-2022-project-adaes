{
 "cells": [
  {
   "cell_type": "markdown",
   "id": "fc373ed1",
   "metadata": {},
   "source": [
    "# How Predictable are Humans ? (ADAes Team) "
   ]
  },
  {
   "cell_type": "markdown",
   "id": "7b80aa82",
   "metadata": {},
   "source": [
    "Wikispeedia is a game based on Wikipedia, where players are given a start and end article and they must reach their goal in the fastest time possible only by using Wikipedia hyperlinks.\n",
    "\n",
    "This study aims at analysing players strategies in order to leverage out insightful conclusions about their navigational behaviour."
   ]
  },
  {
   "cell_type": "markdown",
   "id": "bb061b9c",
   "metadata": {},
   "source": [
    "Table of content :  \n",
    "1. [Can this behaviour be generalised](#1.-Can-this-behaviour-be-generalised-?) \n",
    "2. [What is the semantic meaning of these paths](#2.-What-is-the-semantic-meaning-of-these-paths-?)\n",
    "3. [Is this strategy optimal?](#3.-Is-this-strategy-optimal-?)"
   ]
  },
  {
   "cell_type": "code",
   "execution_count": 1,
   "id": "20ae1bba",
   "metadata": {},
   "outputs": [],
   "source": [
    "# Import packages \n",
    "import pandas as pd\n",
    "import networkx as nx\n",
    "from helpers import *\n",
    "import pickle\n",
    "import os\n",
    "import json\n",
    "import numpy as np\n",
    "import spacy\n",
    "from sentence_transformers import SentenceTransformer\n",
    "from sentence_transformers.util import cos_sim\n",
    "import umap.umap_ as umap\n",
    "import matplotlib.pyplot as plt\n",
    "#import hdbscan\n",
    "#from bertopic import BERTopic\n",
    "from numpy import array, average\n",
    "import math\n",
    "from matplotlib.pyplot import figure"
   ]
  },
  {
   "cell_type": "code",
   "execution_count": 2,
   "id": "b6cd4a85",
   "metadata": {},
   "outputs": [],
   "source": [
    "# Import data \n",
    "\n",
    "#Import DataFrames generated in Data_Engineering.ipynb\n",
    "df_nodes_topics = pd.read_pickle('data/df_nodes_topics.pkl')\n",
    "df_nodes = pd.read_pickle('data/df_nodes.pkl')\n",
    "df_topics_general = pd.read_pickle('data/df_topics_general.pkl')\n",
    "df_out_topics = pd.read_pickle('data/df_out_topics.pkl')\n",
    "df_in_topics = pd.read_pickle('data/df_in_topics_df.pkl')\n",
    "df_out_topics = pd.read_pickle('data/df_out_topics.pkl')\n",
    "df_in_topics = pd.read_pickle('data/df_in_topics.pkl')\n",
    "df_paths_finished = pd.read_pickle('data/df_paths_finished.pkl')\n",
    "df_paths_unfinished = pd.read_pickle('data/df_paths_unfinished.pkl')\n",
    "\n",
    "# Import NetworkX Graphs generated in Data_Engineering.ipynb\n",
    "G_topics = nx.read_gpickle('data/G_topics.gpickle')\n",
    "G_general_topics = nx.read_gpickle('data/G_general_topics.gpickle')\n",
    "G_articles = nx.read_gpickle('data/G_articles.gpickle')\n",
    "\n",
    "\n",
    "\n",
    "# Import useful dicts generated in Data_Engineering.ipynb\n",
    "with open('data/closeness_dict.pkl','rb') as f:\n",
    "    closeness_dict = pickle.load(f)\n",
    "with open('data/closeness_topics_dict.pkl','rb') as f:\n",
    "    closeness_topics_dict = pickle.load(f)  \n",
    "with open('data/pagerank_topics_dict.pkl','rb') as f:\n",
    "    pagerank_topics_dict = pickle.load(f)  \n",
    "\n",
    "with open('data/pagerank_dict.pkl','rb') as f:\n",
    "    pagerank_dict = pickle.load(f)  \n",
    "    \n",
    "with open('data/betweenness_dict.pkl','rb') as f:\n",
    "    betweenness_dict = pickle.load(f)\n",
    "with open('data/betweenness_topics_dict.pkl','rb') as f:\n",
    "    betweenness_topics_dict = pickle.load(f)    "
   ]
  },
  {
   "cell_type": "code",
   "execution_count": 3,
   "id": "91a8c4ff",
   "metadata": {},
   "outputs": [],
   "source": [
    "# We define the constatns for the analysis\n",
    "OUT_DEGREE = 'out_degree'\n",
    "CLOSENESS = 'closeness'\n",
    "PAGERANK = 'pagerank'\n",
    "BETWEENNESS = 'betweenness'\n",
    "CENTRALITY_MEASURES = [OUT_DEGREE, CLOSENESS, PAGERANK, BETWEENNESS]\n",
    "\n",
    "AVERAGE_PATH_LENGTH = round(df_paths_finished['path_length'].mean())"
   ]
  },
  {
   "cell_type": "code",
   "execution_count": 8,
   "id": "7f970a1b",
   "metadata": {},
   "outputs": [],
   "source": [
    "# We define the data schema for the analysis\n",
    "class DataSchema :\n",
    "    \"\"\"This class defines the data schema for the analysis\n",
    "    \"\"\"\n",
    "\n",
    "    START = 'start'\n",
    "    TARGET = 'target'\n",
    "    PATH = 'path'\n",
    "    VISITS = 'visits'\n",
    "\n"
   ]
  },
  {
   "cell_type": "markdown",
   "id": "79c9e7b6",
   "metadata": {},
   "source": [
    "# 1. Can this behaviour be generalised ?"
   ]
  },
  {
   "cell_type": "markdown",
   "id": "a698523c",
   "metadata": {},
   "source": [
    "## 1.1 Are the most central nodes the most visited ones ? "
   ]
  },
  {
   "cell_type": "markdown",
   "id": "4219ff9d",
   "metadata": {},
   "source": [
    "### 1.1.1 What are the most central nodes ?"
   ]
  },
  {
   "cell_type": "code",
   "execution_count": null,
   "id": "0d206cae",
   "metadata": {},
   "outputs": [],
   "source": [
    "# Find other way to display the information more clearly "
   ]
  },
  {
   "cell_type": "code",
   "execution_count": 9,
   "id": "8c929b69",
   "metadata": {},
   "outputs": [
    {
     "name": "stdout",
     "output_type": "stream",
     "text": [
      "The articles with highest out_degree centrality are:\n"
     ]
    },
    {
     "data": {
      "text/html": [
       "<div>\n",
       "<style scoped>\n",
       "    .dataframe tbody tr th:only-of-type {\n",
       "        vertical-align: middle;\n",
       "    }\n",
       "\n",
       "    .dataframe tbody tr th {\n",
       "        vertical-align: top;\n",
       "    }\n",
       "\n",
       "    .dataframe thead th {\n",
       "        text-align: right;\n",
       "    }\n",
       "</style>\n",
       "<table border=\"1\" class=\"dataframe\">\n",
       "  <thead>\n",
       "    <tr style=\"text-align: right;\">\n",
       "      <th></th>\n",
       "      <th>out_degree</th>\n",
       "    </tr>\n",
       "    <tr>\n",
       "      <th>name</th>\n",
       "      <th></th>\n",
       "    </tr>\n",
       "  </thead>\n",
       "  <tbody>\n",
       "    <tr>\n",
       "      <th>United_States</th>\n",
       "      <td>1551</td>\n",
       "    </tr>\n",
       "    <tr>\n",
       "      <th>United_Kingdom</th>\n",
       "      <td>972</td>\n",
       "    </tr>\n",
       "    <tr>\n",
       "      <th>France</th>\n",
       "      <td>959</td>\n",
       "    </tr>\n",
       "    <tr>\n",
       "      <th>Europe</th>\n",
       "      <td>933</td>\n",
       "    </tr>\n",
       "    <tr>\n",
       "      <th>England</th>\n",
       "      <td>751</td>\n",
       "    </tr>\n",
       "    <tr>\n",
       "      <th>World_War_II</th>\n",
       "      <td>751</td>\n",
       "    </tr>\n",
       "  </tbody>\n",
       "</table>\n",
       "</div>"
      ],
      "text/plain": [
       "                out_degree\n",
       "name                      \n",
       "United_States         1551\n",
       "United_Kingdom         972\n",
       "France                 959\n",
       "Europe                 933\n",
       "England                751\n",
       "World_War_II           751"
      ]
     },
     "metadata": {},
     "output_type": "display_data"
    },
    {
     "name": "stdout",
     "output_type": "stream",
     "text": [
      "The articles with highest closeness centrality are:\n"
     ]
    },
    {
     "data": {
      "text/html": [
       "<div>\n",
       "<style scoped>\n",
       "    .dataframe tbody tr th:only-of-type {\n",
       "        vertical-align: middle;\n",
       "    }\n",
       "\n",
       "    .dataframe tbody tr th {\n",
       "        vertical-align: top;\n",
       "    }\n",
       "\n",
       "    .dataframe thead th {\n",
       "        text-align: right;\n",
       "    }\n",
       "</style>\n",
       "<table border=\"1\" class=\"dataframe\">\n",
       "  <thead>\n",
       "    <tr style=\"text-align: right;\">\n",
       "      <th></th>\n",
       "      <th>closeness</th>\n",
       "    </tr>\n",
       "    <tr>\n",
       "      <th>name</th>\n",
       "      <th></th>\n",
       "    </tr>\n",
       "  </thead>\n",
       "  <tbody>\n",
       "    <tr>\n",
       "      <th>United_States</th>\n",
       "      <td>0.590353</td>\n",
       "    </tr>\n",
       "    <tr>\n",
       "      <th>Europe</th>\n",
       "      <td>0.542750</td>\n",
       "    </tr>\n",
       "    <tr>\n",
       "      <th>United_Kingdom</th>\n",
       "      <td>0.541466</td>\n",
       "    </tr>\n",
       "    <tr>\n",
       "      <th>France</th>\n",
       "      <td>0.539805</td>\n",
       "    </tr>\n",
       "    <tr>\n",
       "      <th>Germany</th>\n",
       "      <td>0.524285</td>\n",
       "    </tr>\n",
       "    <tr>\n",
       "      <th>World_War_II</th>\n",
       "      <td>0.523446</td>\n",
       "    </tr>\n",
       "  </tbody>\n",
       "</table>\n",
       "</div>"
      ],
      "text/plain": [
       "                closeness\n",
       "name                     \n",
       "United_States    0.590353\n",
       "Europe           0.542750\n",
       "United_Kingdom   0.541466\n",
       "France           0.539805\n",
       "Germany          0.524285\n",
       "World_War_II     0.523446"
      ]
     },
     "metadata": {},
     "output_type": "display_data"
    },
    {
     "name": "stdout",
     "output_type": "stream",
     "text": [
      "The articles with highest pagerank centrality are:\n"
     ]
    },
    {
     "data": {
      "text/html": [
       "<div>\n",
       "<style scoped>\n",
       "    .dataframe tbody tr th:only-of-type {\n",
       "        vertical-align: middle;\n",
       "    }\n",
       "\n",
       "    .dataframe tbody tr th {\n",
       "        vertical-align: top;\n",
       "    }\n",
       "\n",
       "    .dataframe thead th {\n",
       "        text-align: right;\n",
       "    }\n",
       "</style>\n",
       "<table border=\"1\" class=\"dataframe\">\n",
       "  <thead>\n",
       "    <tr style=\"text-align: right;\">\n",
       "      <th></th>\n",
       "      <th>pagerank</th>\n",
       "    </tr>\n",
       "    <tr>\n",
       "      <th>name</th>\n",
       "      <th></th>\n",
       "    </tr>\n",
       "  </thead>\n",
       "  <tbody>\n",
       "    <tr>\n",
       "      <th>United_States</th>\n",
       "      <td>0.009566</td>\n",
       "    </tr>\n",
       "    <tr>\n",
       "      <th>France</th>\n",
       "      <td>0.006423</td>\n",
       "    </tr>\n",
       "    <tr>\n",
       "      <th>Europe</th>\n",
       "      <td>0.006340</td>\n",
       "    </tr>\n",
       "    <tr>\n",
       "      <th>United_Kingdom</th>\n",
       "      <td>0.006235</td>\n",
       "    </tr>\n",
       "    <tr>\n",
       "      <th>English_language</th>\n",
       "      <td>0.004865</td>\n",
       "    </tr>\n",
       "    <tr>\n",
       "      <th>Germany</th>\n",
       "      <td>0.004824</td>\n",
       "    </tr>\n",
       "  </tbody>\n",
       "</table>\n",
       "</div>"
      ],
      "text/plain": [
       "                  pagerank\n",
       "name                      \n",
       "United_States     0.009566\n",
       "France            0.006423\n",
       "Europe            0.006340\n",
       "United_Kingdom    0.006235\n",
       "English_language  0.004865\n",
       "Germany           0.004824"
      ]
     },
     "metadata": {},
     "output_type": "display_data"
    },
    {
     "name": "stdout",
     "output_type": "stream",
     "text": [
      "The articles with highest betweenness centrality are:\n"
     ]
    },
    {
     "data": {
      "text/html": [
       "<div>\n",
       "<style scoped>\n",
       "    .dataframe tbody tr th:only-of-type {\n",
       "        vertical-align: middle;\n",
       "    }\n",
       "\n",
       "    .dataframe tbody tr th {\n",
       "        vertical-align: top;\n",
       "    }\n",
       "\n",
       "    .dataframe thead th {\n",
       "        text-align: right;\n",
       "    }\n",
       "</style>\n",
       "<table border=\"1\" class=\"dataframe\">\n",
       "  <thead>\n",
       "    <tr style=\"text-align: right;\">\n",
       "      <th></th>\n",
       "      <th>betweenness</th>\n",
       "    </tr>\n",
       "    <tr>\n",
       "      <th>name</th>\n",
       "      <th></th>\n",
       "    </tr>\n",
       "  </thead>\n",
       "  <tbody>\n",
       "    <tr>\n",
       "      <th>United_States</th>\n",
       "      <td>0.094090</td>\n",
       "    </tr>\n",
       "    <tr>\n",
       "      <th>United_Kingdom</th>\n",
       "      <td>0.042384</td>\n",
       "    </tr>\n",
       "    <tr>\n",
       "      <th>England</th>\n",
       "      <td>0.032403</td>\n",
       "    </tr>\n",
       "    <tr>\n",
       "      <th>Europe</th>\n",
       "      <td>0.026992</td>\n",
       "    </tr>\n",
       "    <tr>\n",
       "      <th>Africa</th>\n",
       "      <td>0.024204</td>\n",
       "    </tr>\n",
       "    <tr>\n",
       "      <th>Germany</th>\n",
       "      <td>0.019409</td>\n",
       "    </tr>\n",
       "  </tbody>\n",
       "</table>\n",
       "</div>"
      ],
      "text/plain": [
       "                betweenness\n",
       "name                       \n",
       "United_States      0.094090\n",
       "United_Kingdom     0.042384\n",
       "England            0.032403\n",
       "Europe             0.026992\n",
       "Africa             0.024204\n",
       "Germany            0.019409"
      ]
     },
     "metadata": {},
     "output_type": "display_data"
    }
   ],
   "source": [
    "# We sort and display the articles with the highest centrality measures\n",
    "for measure in CENTRALITY_MEASURES:\n",
    "    print('The articles with highest {} centrality are:'.format(measure))\n",
    "    display(df_nodes.sort_values(by=measure, ascending=False)[[measure]].head(AVERAGE_PATH_LENGTH))"
   ]
  },
  {
   "cell_type": "markdown",
   "id": "11efec20",
   "metadata": {},
   "source": [
    "### 1.1.2 What are the most visited nodes ? "
   ]
  },
  {
   "cell_type": "code",
   "execution_count": 10,
   "id": "05511e11",
   "metadata": {},
   "outputs": [
    {
     "name": "stdout",
     "output_type": "stream",
     "text": [
      "The most visited nodes are :\n"
     ]
    },
    {
     "data": {
      "text/html": [
       "<div>\n",
       "<style scoped>\n",
       "    .dataframe tbody tr th:only-of-type {\n",
       "        vertical-align: middle;\n",
       "    }\n",
       "\n",
       "    .dataframe tbody tr th {\n",
       "        vertical-align: top;\n",
       "    }\n",
       "\n",
       "    .dataframe thead th {\n",
       "        text-align: right;\n",
       "    }\n",
       "</style>\n",
       "<table border=\"1\" class=\"dataframe\">\n",
       "  <thead>\n",
       "    <tr style=\"text-align: right;\">\n",
       "      <th></th>\n",
       "      <th>visits</th>\n",
       "    </tr>\n",
       "    <tr>\n",
       "      <th>name</th>\n",
       "      <th></th>\n",
       "    </tr>\n",
       "  </thead>\n",
       "  <tbody>\n",
       "    <tr>\n",
       "      <th>United_States</th>\n",
       "      <td>11991.0</td>\n",
       "    </tr>\n",
       "    <tr>\n",
       "      <th>Europe</th>\n",
       "      <td>5397.0</td>\n",
       "    </tr>\n",
       "    <tr>\n",
       "      <th>United_Kingdom</th>\n",
       "      <td>5021.0</td>\n",
       "    </tr>\n",
       "    <tr>\n",
       "      <th>England</th>\n",
       "      <td>4255.0</td>\n",
       "    </tr>\n",
       "    <tr>\n",
       "      <th>Earth</th>\n",
       "      <td>4095.0</td>\n",
       "    </tr>\n",
       "    <tr>\n",
       "      <th>Africa</th>\n",
       "      <td>3446.0</td>\n",
       "    </tr>\n",
       "  </tbody>\n",
       "</table>\n",
       "</div>"
      ],
      "text/plain": [
       "                 visits\n",
       "name                   \n",
       "United_States   11991.0\n",
       "Europe           5397.0\n",
       "United_Kingdom   5021.0\n",
       "England          4255.0\n",
       "Earth            4095.0\n",
       "Africa           3446.0"
      ]
     },
     "metadata": {},
     "output_type": "display_data"
    }
   ],
   "source": [
    "# We sort and display the most visited nodes \n",
    "print('The most visited nodes are :')\n",
    "display(df_nodes.sort_values(by=DataSchema.VISITS, ascending=False)[[DataSchema.VISITS]].head(AVERAGE_PATH_LENGTH))"
   ]
  },
  {
   "cell_type": "markdown",
   "id": "84cdb5ad",
   "metadata": {},
   "source": [
    "### 1.1.3 Are the most central nodes the most visited ones ?"
   ]
  },
  {
   "cell_type": "code",
   "execution_count": 11,
   "id": "dc37fe1c",
   "metadata": {},
   "outputs": [],
   "source": [
    "# We add columns for the rank of each article in each centrality measure\n",
    "for measure in CENTRALITY_MEASURES: \n",
    "    df_nodes[measure+'_rank'] = df_nodes[measure].rank(ascending=False)"
   ]
  },
  {
   "cell_type": "code",
   "execution_count": 12,
   "id": "dd226b9a",
   "metadata": {},
   "outputs": [],
   "source": [
    "# Compute some kind of metric (correlation) to explain choice of articles"
   ]
  },
  {
   "cell_type": "code",
   "execution_count": 13,
   "id": "7e1aba61",
   "metadata": {},
   "outputs": [
    {
     "data": {
      "text/html": [
       "<div>\n",
       "<style scoped>\n",
       "    .dataframe tbody tr th:only-of-type {\n",
       "        vertical-align: middle;\n",
       "    }\n",
       "\n",
       "    .dataframe tbody tr th {\n",
       "        vertical-align: top;\n",
       "    }\n",
       "\n",
       "    .dataframe thead th {\n",
       "        text-align: right;\n",
       "    }\n",
       "</style>\n",
       "<table border=\"1\" class=\"dataframe\">\n",
       "  <thead>\n",
       "    <tr style=\"text-align: right;\">\n",
       "      <th></th>\n",
       "      <th>visits</th>\n",
       "      <th>out_degree_rank</th>\n",
       "      <th>closeness_rank</th>\n",
       "      <th>betweenness_rank</th>\n",
       "      <th>pagerank_rank</th>\n",
       "    </tr>\n",
       "    <tr>\n",
       "      <th>name</th>\n",
       "      <th></th>\n",
       "      <th></th>\n",
       "      <th></th>\n",
       "      <th></th>\n",
       "      <th></th>\n",
       "    </tr>\n",
       "  </thead>\n",
       "  <tbody>\n",
       "    <tr>\n",
       "      <th>United_States</th>\n",
       "      <td>11991.0</td>\n",
       "      <td>1.0</td>\n",
       "      <td>1.0</td>\n",
       "      <td>1.0</td>\n",
       "      <td>1.0</td>\n",
       "    </tr>\n",
       "    <tr>\n",
       "      <th>Europe</th>\n",
       "      <td>5397.0</td>\n",
       "      <td>4.0</td>\n",
       "      <td>2.0</td>\n",
       "      <td>4.0</td>\n",
       "      <td>3.0</td>\n",
       "    </tr>\n",
       "    <tr>\n",
       "      <th>United_Kingdom</th>\n",
       "      <td>5021.0</td>\n",
       "      <td>2.0</td>\n",
       "      <td>3.0</td>\n",
       "      <td>2.0</td>\n",
       "      <td>4.0</td>\n",
       "    </tr>\n",
       "    <tr>\n",
       "      <th>England</th>\n",
       "      <td>4255.0</td>\n",
       "      <td>5.5</td>\n",
       "      <td>10.0</td>\n",
       "      <td>3.0</td>\n",
       "      <td>8.0</td>\n",
       "    </tr>\n",
       "    <tr>\n",
       "      <th>Earth</th>\n",
       "      <td>4095.0</td>\n",
       "      <td>49.0</td>\n",
       "      <td>56.0</td>\n",
       "      <td>11.0</td>\n",
       "      <td>35.0</td>\n",
       "    </tr>\n",
       "    <tr>\n",
       "      <th>Africa</th>\n",
       "      <td>3446.0</td>\n",
       "      <td>20.0</td>\n",
       "      <td>23.0</td>\n",
       "      <td>5.0</td>\n",
       "      <td>20.0</td>\n",
       "    </tr>\n",
       "  </tbody>\n",
       "</table>\n",
       "</div>"
      ],
      "text/plain": [
       "                 visits  out_degree_rank  closeness_rank  betweenness_rank  \\\n",
       "name                                                                         \n",
       "United_States   11991.0              1.0             1.0               1.0   \n",
       "Europe           5397.0              4.0             2.0               4.0   \n",
       "United_Kingdom   5021.0              2.0             3.0               2.0   \n",
       "England          4255.0              5.5            10.0               3.0   \n",
       "Earth            4095.0             49.0            56.0              11.0   \n",
       "Africa           3446.0             20.0            23.0               5.0   \n",
       "\n",
       "                pagerank_rank  \n",
       "name                           \n",
       "United_States             1.0  \n",
       "Europe                    3.0  \n",
       "United_Kingdom            4.0  \n",
       "England                   8.0  \n",
       "Earth                    35.0  \n",
       "Africa                   20.0  "
      ]
     },
     "execution_count": 13,
     "metadata": {},
     "output_type": "execute_result"
    }
   ],
   "source": [
    "# We sort and display the articles and their rank in each centrality measure\n",
    "df_nodes = df_nodes.sort_values(by=DataSchema.VISITS, ascending=False)\n",
    "df_nodes[[DataSchema.VISITS, 'out_degree_rank', 'closeness_rank', 'betweenness_rank', 'pagerank_rank']].head(AVERAGE_PATH_LENGTH)"
   ]
  },
  {
   "cell_type": "markdown",
   "id": "7acca9ac",
   "metadata": {},
   "source": [
    "As we can see, the most visited nodes also perfom strongly on centrality measures. This confirms our intuition about players' strategy and the fact that they have a tendency to visit more central nodes."
   ]
  },
  {
   "cell_type": "markdown",
   "id": "31a1b62b",
   "metadata": {},
   "source": [
    "Moreover, we can observe that the betweenness rank is the one that is the most similar to the visits of the players. This actually makes perfect sense as betweenness centrality is a measure of the number of times a node acts as a bridge along the shortest path between two other nodes. Therefore, we observe a high tendency of the players to visit nodes that are central in the shortest path they are trying to achieve."
   ]
  },
  {
   "cell_type": "markdown",
   "id": "4c19436f",
   "metadata": {},
   "source": [
    "## 1.2 What is the evolution of the centrality of the nodes visited in the path ?"
   ]
  },
  {
   "cell_type": "code",
   "execution_count": 15,
   "id": "0f09833e",
   "metadata": {},
   "outputs": [],
   "source": [
    "# We define a function to get the k most played games \n",
    "def get_top_k_games(df_paths_finished, k):\n",
    "    df_top_k = (\n",
    "        df_paths_finished[[DataSchema.START, DataSchema.TARGET, DataSchema.PATH]]\n",
    "        .groupby([DataSchema.START, DataSchema.TARGET])\n",
    "        .count()\n",
    "        .sort_values(by=DataSchema.PATH, axis=0, ascending=False)[:k]\n",
    "    )\n",
    "    top_k_games = df_top_k.index\n",
    "    return top_k_games"
   ]
  },
  {
   "cell_type": "code",
   "execution_count": 16,
   "id": "56c5eb7f",
   "metadata": {},
   "outputs": [],
   "source": [
    "# We define a function to find how many different players have played certain games \n",
    "def get_number_players(df_paths_finished, top_k_games):\n",
    "    top_start = [i[0] for i in top_k_games]\n",
    "    top_target = [i[1] for i in top_k_games]\n",
    "    top_paths = list(zip(top_start, top_target))\n",
    "\n",
    "    df_pruned = df_paths_finished.merge(\n",
    "        pd.DataFrame(top_paths, columns=[DataSchema.START, DataSchema.TARGET]),\n",
    "        how=\"inner\",\n",
    "        on=[DataSchema.START, DataSchema.TARGET],\n",
    "    )\n",
    "    return df_pruned.hashedIpAddress.nunique()"
   ]
  },
  {
   "cell_type": "code",
   "execution_count": 17,
   "id": "127f4008",
   "metadata": {},
   "outputs": [],
   "source": [
    "# We define a function to plot the  average evolution of a centrality measure for the top k paths \n",
    "def plot_average_evolution(df_paths_finished, df_nodes, k, measure):\n",
    "    top_k_games = get_top_k_games(df_paths_finished, k)\n",
    "    num_rows = math.floor(math.sqrt(k))\n",
    "    num_cols = k // num_rows + 1\n",
    "    figure, axis = plt.subplots(num_rows, num_cols)\n",
    "\n",
    "    for i, game in enumerate(top_k_games):\n",
    "        df_games = df_paths_finished[\n",
    "            [DataSchema.START, DataSchema.TARGET, DataSchema.PATH]\n",
    "        ]\n",
    "        mask = (df_games[DataSchema.START] == game[0]) & (\n",
    "            df_games[DataSchema.TARGET] == game[1]\n",
    "        )\n",
    "        df_games = df_games[mask]\n",
    "        df_games[\"path_measure\"] = df_games[DataSchema.PATH].apply(\n",
    "            lambda l: [df_nodes.loc[elem][measure] for elem in l]\n",
    "        )\n",
    "        xs, ys, l, u = get_value_evolution(list(df_games[\"path_measure\"]))\n",
    "        ax = axis[i % num_rows, i // num_rows]\n",
    "        ax.plot(xs, ys)\n",
    "        ax.fill_between(xs, l, u, alpha=0.2)\n",
    "\n",
    "        ax.set_title(game[0] + \" to \" + game[1], fontsize=15)\n",
    "\n",
    "    figure.suptitle(\n",
    "        \"Average evolution of {} centrality for the top {} paths\".format(measure, k),\n",
    "        fontsize=20,\n",
    "    )\n",
    "    figure.set_size_inches(18.5, 10.5)\n",
    "    figure.tight_layout()"
   ]
  },
  {
   "cell_type": "code",
   "execution_count": null,
   "id": "a08df77a",
   "metadata": {},
   "outputs": [],
   "source": [
    "# Add number of paths averaged for each subplot "
   ]
  },
  {
   "cell_type": "code",
   "execution_count": 99,
   "id": "0052c532",
   "metadata": {},
   "outputs": [
    {
     "data": {
      "image/png": "[encoded data removed]",
      "text/plain": [
       "<Figure size 1332x756 with 12 Axes>"
      ]
     },
     "metadata": {
      "needs_background": "light"
     },
     "output_type": "display_data"
    }
   ],
   "source": [
    "plot_average_evolution(df_paths_finished, df_nodes, 10, BETWEENNESS)"
   ]
  },
  {
   "cell_type": "code",
   "execution_count": 83,
   "id": "154d8661",
   "metadata": {},
   "outputs": [
    {
     "name": "stdout",
     "output_type": "stream",
     "text": [
      "The number of unique players to have participated in this study is : 2693\n"
     ]
    }
   ],
   "source": [
    "# We emphasize statistical significance based on how many players are involved in this study \n",
    "print('The number of unique players to have participated in this study is :', get_number_players(df_paths_finished, get_top_k_games(df_paths_finished, 10)))"
   ]
  },
  {
   "cell_type": "markdown",
   "id": "35fe5a69",
   "metadata": {},
   "source": [
    "This study realised above further confirms our intution about players' strategy. We can clearly observe the evolution of the centrality measure along the path, and we see that players first move towards central nodes before focusing back on the target. \n",
    "\n",
    "This conclusion draws it's statistical significance from the confidence intervals of the curves as each curve was obtained by averaging many paths played. Moreover, 2693 players were involved in this study. \n",
    "Both those arguments make a solid statement that this behaviour is generalisable as we observe a great number of players converging towards the same strategy."
   ]
  },
  {
   "cell_type": "markdown",
   "id": "5e74728b",
   "metadata": {},
   "source": [
    "# 2. What is the semantic meaning of these paths ?"
   ]
  },
  {
   "cell_type": "markdown",
   "id": "413095f1",
   "metadata": {},
   "source": [
    "## 2.1 Are the players getting closer to the goal according to the shortest path metric ?\n"
   ]
  },
  {
   "cell_type": "code",
   "execution_count": null,
   "id": "17b2af49",
   "metadata": {},
   "outputs": [],
   "source": [
    "# We define the distance metric as the shortest path distance from point to the end article\n",
    "\n",
    "def get_shortest_path(df_shortest_paths, start, end):\n",
    "    pass"
   ]
  },
  {
   "cell_type": "code",
   "execution_count": null,
   "id": "cc3999e3",
   "metadata": {},
   "outputs": [],
   "source": [
    "# Plot the evolution of the metric as we progress through the path"
   ]
  },
  {
   "cell_type": "markdown",
   "id": "d124eed0",
   "metadata": {},
   "source": [
    "## 2.2 Does shortest path reflect semantic closeness/similarity ?"
   ]
  },
  {
   "cell_type": "code",
   "execution_count": null,
   "id": "888dd3d0",
   "metadata": {},
   "outputs": [],
   "source": [
    "# Import Pre-trained Bert\n",
    "model = SentenceTransformer('paraphrase-multilingual-mpnet-base-v2')\n",
    "\n",
    "# UMAP instance for dimentionnality reduction\n",
    "umap_model = umap.UMAP(n_neighbors=15, n_components=5, metric='cosine', low_memory=False)\n",
    "\n",
    "# HDBSCAN instance for clustering\n",
    "hdbscan_model = hdbscan.HDBSCAN(min_cluster_size=200, metric='euclidean', prediction_data=True)\n",
    "\n",
    "# Topic Model for embedding\n",
    "topic_model = BERTopic(embedding_model=model,umap_model = umap_model, hdbscan_model = hdbscan_model)\n"
   ]
  },
  {
   "cell_type": "code",
   "execution_count": null,
   "id": "25d8721d",
   "metadata": {},
   "outputs": [],
   "source": [
    "# Embed all article pages and retrieve topics\n",
    "\n",
    "def embed_articles(df_articles,model):\n",
    "    pass"
   ]
  },
  {
   "cell_type": "code",
   "execution_count": null,
   "id": "e8bb53f8",
   "metadata": {},
   "outputs": [],
   "source": [
    "# Compute cosine similarity between embedded vectors to yield semantic closeness\n",
    "\n",
    "# This function will compute similarities between all page hops and the target article using transformers cos_sim  \n",
    "def compute_cosine_similarity(list_of_articles, target_article):\n",
    "    pass"
   ]
  },
  {
   "cell_type": "code",
   "execution_count": null,
   "id": "0cc1a7d6",
   "metadata": {},
   "outputs": [],
   "source": [
    "# Plot the evolution of the semantic closeness as we progress through the path "
   ]
  },
  {
   "cell_type": "code",
   "execution_count": null,
   "id": "76b6be3c",
   "metadata": {},
   "outputs": [],
   "source": [
    "# Investigate whether or not the shortest path reflects semantic closeness between consecutive hops"
   ]
  },
  {
   "cell_type": "markdown",
   "id": "4bd1289c",
   "metadata": {},
   "source": [
    "## 2.3 Is the player getting semantically closer to the goal ?"
   ]
  },
  {
   "cell_type": "code",
   "execution_count": null,
   "id": "248a39a9",
   "metadata": {},
   "outputs": [],
   "source": [
    "# Are the players getting semantically closer to the destination by each hop they take"
   ]
  },
  {
   "cell_type": "code",
   "execution_count": null,
   "id": "1e7d8dd3",
   "metadata": {},
   "outputs": [],
   "source": [
    "# Plot the evolution of the semantic closeness from each hop to the target page as we progress through the path"
   ]
  },
  {
   "cell_type": "code",
   "execution_count": null,
   "id": "240cf8b3",
   "metadata": {},
   "outputs": [],
   "source": [
    "# Observe and draw conclusion on players' behaviour"
   ]
  },
  {
   "cell_type": "markdown",
   "id": "b4032749",
   "metadata": {},
   "source": [
    "# 3. Is this strategy optimal ? "
   ]
  },
  {
   "cell_type": "markdown",
   "id": "3a25afd6",
   "metadata": {},
   "source": [
    "## 3.1 Is this strategy the one that yields the most winner paths ? "
   ]
  },
  {
   "cell_type": "code",
   "execution_count": null,
   "id": "90e0e580",
   "metadata": {},
   "outputs": [],
   "source": [
    "# Is this strategy the one that yields the most winner paths?"
   ]
  },
  {
   "cell_type": "code",
   "execution_count": null,
   "id": "d4a90757",
   "metadata": {},
   "outputs": [],
   "source": [
    "# Here compute same procedure to loosing games "
   ]
  },
  {
   "cell_type": "code",
   "execution_count": null,
   "id": "6739b5ec",
   "metadata": {},
   "outputs": [],
   "source": [
    "# Plot evolution of centrality on shortest path "
   ]
  },
  {
   "cell_type": "code",
   "execution_count": null,
   "id": "94868003",
   "metadata": {},
   "outputs": [],
   "source": [
    "# Compute overall success rate of the strategy\n",
    "\n",
    "# This function filters out functions\n",
    "def get_path_strategy(startegy, list_all_paths):\n",
    "    pass\n",
    "\n",
    "# In this case, we intend on feeding the function with already filtered paths that follow the strategy of interest\n",
    "def success_rate(list_winner_paths, list_looser_paths):\n",
    "    pass"
   ]
  },
  {
   "cell_type": "code",
   "execution_count": null,
   "id": "7ff28a55",
   "metadata": {},
   "outputs": [],
   "source": [
    "# Wrap up and draw final conclusions about predictability of human behaviour"
   ]
  }
 ],
 "metadata": {
  "kernelspec": {
   "display_name": "Python 3.9.7 ('base')",
   "language": "python",
   "name": "python3"
  },
  "language_info": {
   "codemirror_mode": {
    "name": "ipython",
    "version": 3
   },
   "file_extension": ".py",
   "mimetype": "text/x-python",
   "name": "python",
   "nbconvert_exporter": "python",
   "pygments_lexer": "ipython3",
   "version": "3.9.7"
  },
  "vscode": {
   "interpreter": {
    "hash": "8a4d93c6af53accafcbe363445a8d4b9073871d3a7503fc566dc9e8ca870f026"
   }
  }
 },
 "nbformat": 4,
 "nbformat_minor": 5
}
