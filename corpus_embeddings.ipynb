{
 "cells": [
  {
   "cell_type": "code",
   "execution_count": 103,
   "id": "0fee735b",
   "metadata": {},
   "outputs": [],
   "source": [
    "from sentence_transformers import SentenceTransformer\n",
    "import os, glob\n",
    "import pandas as pd\n",
    "from nltk.corpus import stopwords\n",
    "from nltk.tokenize import word_tokenize\n",
    "import string as st\n",
    "import pickle"
   ]
  },
  {
   "cell_type": "code",
   "execution_count": 77,
   "id": "2f5ac507",
   "metadata": {},
   "outputs": [],
   "source": [
    "PATH_TO_DOCUMENTS = './/data//plaintext_articles//'\n",
    "document_mapper = pd.DataFrame(os.listdir('.//data//plaintext_articles'),columns=['file_name'])"
   ]
  },
  {
   "cell_type": "code",
   "execution_count": 78,
   "id": "0da88363",
   "metadata": {},
   "outputs": [],
   "source": [
    "def load_file(filename: str) -> str:\n",
    "    with open(f\"{PATH_TO_DOCUMENTS}{filename}\", \"r\", encoding=\"utf-8\") as f:\n",
    "        return f.read()\n",
    "    \n",
    "document_mapper[\"docs\"] = document_mapper[\"file_name\"].apply(load_file)"
   ]
  },
  {
   "cell_type": "code",
   "execution_count": 79,
   "id": "b852d99f",
   "metadata": {},
   "outputs": [
    {
     "data": {
      "text/html": [
       "<div>\n",
       "<style scoped>\n",
       "    .dataframe tbody tr th:only-of-type {\n",
       "        vertical-align: middle;\n",
       "    }\n",
       "\n",
       "    .dataframe tbody tr th {\n",
       "        vertical-align: top;\n",
       "    }\n",
       "\n",
       "    .dataframe thead th {\n",
       "        text-align: right;\n",
       "    }\n",
       "</style>\n",
       "<table border=\"1\" class=\"dataframe\">\n",
       "  <thead>\n",
       "    <tr style=\"text-align: right;\">\n",
       "      <th></th>\n",
       "      <th>file_name</th>\n",
       "      <th>docs</th>\n",
       "    </tr>\n",
       "  </thead>\n",
       "  <tbody>\n",
       "    <tr>\n",
       "      <th>0</th>\n",
       "      <td>%C3%81ed%C3%A1n_mac_Gabr%C3%A1in.txt</td>\n",
       "      <td>#copyright\\n\\nÁedán mac Gabráin\\n\\n2007 Sch...</td>\n",
       "    </tr>\n",
       "    <tr>\n",
       "      <th>1</th>\n",
       "      <td>%C3%85land.txt</td>\n",
       "      <td>#copyright\\n\\nÅland\\n\\n2007 Schools Wikiped...</td>\n",
       "    </tr>\n",
       "    <tr>\n",
       "      <th>2</th>\n",
       "      <td>%C3%89douard_Manet.txt</td>\n",
       "      <td>#copyright\\n\\nÉdouard Manet\\n\\n2007 Schools...</td>\n",
       "    </tr>\n",
       "    <tr>\n",
       "      <th>3</th>\n",
       "      <td>%C3%89ire.txt</td>\n",
       "      <td>#copyright\\n\\nÉire\\n\\n2007 Schools Wikipedi...</td>\n",
       "    </tr>\n",
       "    <tr>\n",
       "      <th>4</th>\n",
       "      <td>%C3%93engus_I_of_the_Picts.txt</td>\n",
       "      <td>#copyright\\n\\nÓengus I of the Picts\\n\\n2007...</td>\n",
       "    </tr>\n",
       "  </tbody>\n",
       "</table>\n",
       "</div>"
      ],
      "text/plain": [
       "                              file_name  \\\n",
       "0  %C3%81ed%C3%A1n_mac_Gabr%C3%A1in.txt   \n",
       "1                        %C3%85land.txt   \n",
       "2                %C3%89douard_Manet.txt   \n",
       "3                         %C3%89ire.txt   \n",
       "4        %C3%93engus_I_of_the_Picts.txt   \n",
       "\n",
       "                                                docs  \n",
       "0     #copyright\\n\\nÁedán mac Gabráin\\n\\n2007 Sch...  \n",
       "1     #copyright\\n\\nÅland\\n\\n2007 Schools Wikiped...  \n",
       "2     #copyright\\n\\nÉdouard Manet\\n\\n2007 Schools...  \n",
       "3     #copyright\\n\\nÉire\\n\\n2007 Schools Wikipedi...  \n",
       "4     #copyright\\n\\nÓengus I of the Picts\\n\\n2007...  "
      ]
     },
     "execution_count": 79,
     "metadata": {},
     "output_type": "execute_result"
    }
   ],
   "source": [
    "document_mapper.head(5)"
   ]
  },
  {
   "cell_type": "code",
   "execution_count": 118,
   "id": "edc1c8ef",
   "metadata": {},
   "outputs": [],
   "source": [
    "def clean_text(document : str) -> str :\n",
    "    tokens = word_tokenize(document)\n",
    "    # convert to lower case\n",
    "    tokens = [w.lower() for w in tokens]\n",
    "    # remove punctuation from each word\n",
    "    table = str.maketrans('', '', st.punctuation)\n",
    "    stripped = [w.translate(table) for w in tokens]\n",
    "    # remove remaining tokens that are not alphabetic\n",
    "    #words = [word for word in stripped if word.isalpha()]\n",
    "    # filter out stop words\n",
    "    stop_words = set(stopwords.words('english'))\n",
    "    words = [w for w in stripped if not w in stop_words]\n",
    "    return (\" \").join(words)"
   ]
  },
  {
   "cell_type": "code",
   "execution_count": 122,
   "id": "988d5e46",
   "metadata": {},
   "outputs": [],
   "source": [
    "document_mapper['clean_text'] = document_mapper['docs'].apply(clean_text)"
   ]
  },
  {
   "cell_type": "code",
   "execution_count": 124,
   "id": "80eddce4",
   "metadata": {},
   "outputs": [
    {
     "data": {
      "text/html": [
       "<div>\n",
       "<style scoped>\n",
       "    .dataframe tbody tr th:only-of-type {\n",
       "        vertical-align: middle;\n",
       "    }\n",
       "\n",
       "    .dataframe tbody tr th {\n",
       "        vertical-align: top;\n",
       "    }\n",
       "\n",
       "    .dataframe thead th {\n",
       "        text-align: right;\n",
       "    }\n",
       "</style>\n",
       "<table border=\"1\" class=\"dataframe\">\n",
       "  <thead>\n",
       "    <tr style=\"text-align: right;\">\n",
       "      <th></th>\n",
       "      <th>file_name</th>\n",
       "      <th>docs</th>\n",
       "      <th>clean_text</th>\n",
       "    </tr>\n",
       "  </thead>\n",
       "  <tbody>\n",
       "    <tr>\n",
       "      <th>0</th>\n",
       "      <td>%C3%81ed%C3%A1n_mac_Gabr%C3%A1in.txt</td>\n",
       "      <td>#copyright\\n\\nÁedán mac Gabráin\\n\\n2007 Sch...</td>\n",
       "      <td>copyright áedán mac gabráin 2007 schools wiki...</td>\n",
       "    </tr>\n",
       "    <tr>\n",
       "      <th>1</th>\n",
       "      <td>%C3%85land.txt</td>\n",
       "      <td>#copyright\\n\\nÅland\\n\\n2007 Schools Wikiped...</td>\n",
       "      <td>copyright åland 2007 schools wikipedia select...</td>\n",
       "    </tr>\n",
       "    <tr>\n",
       "      <th>2</th>\n",
       "      <td>%C3%89douard_Manet.txt</td>\n",
       "      <td>#copyright\\n\\nÉdouard Manet\\n\\n2007 Schools...</td>\n",
       "      <td>copyright édouard manet 2007 schools wikipedi...</td>\n",
       "    </tr>\n",
       "    <tr>\n",
       "      <th>3</th>\n",
       "      <td>%C3%89ire.txt</td>\n",
       "      <td>#copyright\\n\\nÉire\\n\\n2007 Schools Wikipedi...</td>\n",
       "      <td>copyright éire 2007 schools wikipedia selecti...</td>\n",
       "    </tr>\n",
       "    <tr>\n",
       "      <th>4</th>\n",
       "      <td>%C3%93engus_I_of_the_Picts.txt</td>\n",
       "      <td>#copyright\\n\\nÓengus I of the Picts\\n\\n2007...</td>\n",
       "      <td>copyright óengus picts 2007 schools wikipedia...</td>\n",
       "    </tr>\n",
       "  </tbody>\n",
       "</table>\n",
       "</div>"
      ],
      "text/plain": [
       "                              file_name  \\\n",
       "0  %C3%81ed%C3%A1n_mac_Gabr%C3%A1in.txt   \n",
       "1                        %C3%85land.txt   \n",
       "2                %C3%89douard_Manet.txt   \n",
       "3                         %C3%89ire.txt   \n",
       "4        %C3%93engus_I_of_the_Picts.txt   \n",
       "\n",
       "                                                docs  \\\n",
       "0     #copyright\\n\\nÁedán mac Gabráin\\n\\n2007 Sch...   \n",
       "1     #copyright\\n\\nÅland\\n\\n2007 Schools Wikiped...   \n",
       "2     #copyright\\n\\nÉdouard Manet\\n\\n2007 Schools...   \n",
       "3     #copyright\\n\\nÉire\\n\\n2007 Schools Wikipedi...   \n",
       "4     #copyright\\n\\nÓengus I of the Picts\\n\\n2007...   \n",
       "\n",
       "                                          clean_text  \n",
       "0   copyright áedán mac gabráin 2007 schools wiki...  \n",
       "1   copyright åland 2007 schools wikipedia select...  \n",
       "2   copyright édouard manet 2007 schools wikipedi...  \n",
       "3   copyright éire 2007 schools wikipedia selecti...  \n",
       "4   copyright óengus picts 2007 schools wikipedia...  "
      ]
     },
     "execution_count": 124,
     "metadata": {},
     "output_type": "execute_result"
    }
   ],
   "source": [
    "document_mapper.head(5)"
   ]
  },
  {
   "cell_type": "code",
   "execution_count": 149,
   "id": "7baeaf9d",
   "metadata": {},
   "outputs": [
    {
     "name": "stdout",
     "output_type": "stream",
     "text": [
      "Max Sequence Length: 512\n"
     ]
    }
   ],
   "source": [
    "encoding_model = SentenceTransformer('all-MiniLM-L12-v2')\n",
    "encoding_model.max_seq_length = 512\n",
    "print(\"Max Sequence Length:\", encoding_model.max_seq_length)"
   ]
  },
  {
   "cell_type": "code",
   "execution_count": 152,
   "id": "8704db9d",
   "metadata": {},
   "outputs": [
    {
     "data": {
      "application/vnd.jupyter.widget-view+json": {
       "model_id": "dde7254dc9e54e8ea6b7a8923419494b",
       "version_major": 2,
       "version_minor": 0
      },
      "text/plain": [
       "Batches:   0%|          | 0/144 [00:00<?, ?it/s]"
      ]
     },
     "metadata": {},
     "output_type": "display_data"
    }
   ],
   "source": [
    "embeddings = encoding_model.encode(document_mapper['clean_text'].tolist(),show_progress_bar=True)"
   ]
  },
  {
   "cell_type": "code",
   "execution_count": 153,
   "id": "1f33689c",
   "metadata": {},
   "outputs": [],
   "source": [
    "import pickle\n",
    "with open('embeddings.pkl', \"wb\") as fOut:\n",
    "    pickle.dump({'sentences': document_mapper['clean_text'].tolist(), 'embeddings': embeddings}, fOut, protocol=pickle.HIGHEST_PROTOCOL)"
   ]
  },
  {
   "cell_type": "code",
   "execution_count": 154,
   "id": "07c74739",
   "metadata": {},
   "outputs": [],
   "source": [
    "#with open('embeddings.pkl', \"rb\") as fIn:\n",
    "#    stored_data = pickle.load(fIn)\n",
    "#    stored_sentences = stored_data['sentences']\n",
    "#    stored_embeddings = stored_data['embeddings']"
   ]
  },
  {
   "cell_type": "code",
   "execution_count": 161,
   "id": "fdd95b2c",
   "metadata": {},
   "outputs": [],
   "source": [
    "document_mapper['embeddings'] = embeddings.tolist()"
   ]
  },
  {
   "cell_type": "code",
   "execution_count": 175,
   "id": "fdefad2f",
   "metadata": {},
   "outputs": [
    {
     "data": {
      "text/html": [
       "<div>\n",
       "<style scoped>\n",
       "    .dataframe tbody tr th:only-of-type {\n",
       "        vertical-align: middle;\n",
       "    }\n",
       "\n",
       "    .dataframe tbody tr th {\n",
       "        vertical-align: top;\n",
       "    }\n",
       "\n",
       "    .dataframe thead th {\n",
       "        text-align: right;\n",
       "    }\n",
       "</style>\n",
       "<table border=\"1\" class=\"dataframe\">\n",
       "  <thead>\n",
       "    <tr style=\"text-align: right;\">\n",
       "      <th></th>\n",
       "      <th>file_name</th>\n",
       "      <th>docs</th>\n",
       "      <th>clean_text</th>\n",
       "      <th>embeddings</th>\n",
       "    </tr>\n",
       "  </thead>\n",
       "  <tbody>\n",
       "    <tr>\n",
       "      <th>0</th>\n",
       "      <td>%C3%81ed%C3%A1n_mac_Gabr%C3%A1in.txt</td>\n",
       "      <td>#copyright\\n\\nÁedán mac Gabráin\\n\\n2007 Sch...</td>\n",
       "      <td>copyright áedán mac gabráin 2007 schools wiki...</td>\n",
       "      <td>[0.04089818894863129, -0.00878914725035429, -0...</td>\n",
       "    </tr>\n",
       "    <tr>\n",
       "      <th>1</th>\n",
       "      <td>%C3%85land.txt</td>\n",
       "      <td>#copyright\\n\\nÅland\\n\\n2007 Schools Wikiped...</td>\n",
       "      <td>copyright åland 2007 schools wikipedia select...</td>\n",
       "      <td>[0.060515306890010834, -0.026957755908370018, ...</td>\n",
       "    </tr>\n",
       "    <tr>\n",
       "      <th>2</th>\n",
       "      <td>%C3%89douard_Manet.txt</td>\n",
       "      <td>#copyright\\n\\nÉdouard Manet\\n\\n2007 Schools...</td>\n",
       "      <td>copyright édouard manet 2007 schools wikipedi...</td>\n",
       "      <td>[0.08456774055957794, 0.04743683338165283, 0.0...</td>\n",
       "    </tr>\n",
       "    <tr>\n",
       "      <th>3</th>\n",
       "      <td>%C3%89ire.txt</td>\n",
       "      <td>#copyright\\n\\nÉire\\n\\n2007 Schools Wikipedi...</td>\n",
       "      <td>copyright éire 2007 schools wikipedia selecti...</td>\n",
       "      <td>[0.06309432536363602, -0.012940289452672005, 0...</td>\n",
       "    </tr>\n",
       "    <tr>\n",
       "      <th>4</th>\n",
       "      <td>%C3%93engus_I_of_the_Picts.txt</td>\n",
       "      <td>#copyright\\n\\nÓengus I of the Picts\\n\\n2007...</td>\n",
       "      <td>copyright óengus picts 2007 schools wikipedia...</td>\n",
       "      <td>[0.02952096424996853, 0.0008616832201369107, 0...</td>\n",
       "    </tr>\n",
       "  </tbody>\n",
       "</table>\n",
       "</div>"
      ],
      "text/plain": [
       "                              file_name  \\\n",
       "0  %C3%81ed%C3%A1n_mac_Gabr%C3%A1in.txt   \n",
       "1                        %C3%85land.txt   \n",
       "2                %C3%89douard_Manet.txt   \n",
       "3                         %C3%89ire.txt   \n",
       "4        %C3%93engus_I_of_the_Picts.txt   \n",
       "\n",
       "                                                docs  \\\n",
       "0     #copyright\\n\\nÁedán mac Gabráin\\n\\n2007 Sch...   \n",
       "1     #copyright\\n\\nÅland\\n\\n2007 Schools Wikiped...   \n",
       "2     #copyright\\n\\nÉdouard Manet\\n\\n2007 Schools...   \n",
       "3     #copyright\\n\\nÉire\\n\\n2007 Schools Wikipedi...   \n",
       "4     #copyright\\n\\nÓengus I of the Picts\\n\\n2007...   \n",
       "\n",
       "                                          clean_text  \\\n",
       "0   copyright áedán mac gabráin 2007 schools wiki...   \n",
       "1   copyright åland 2007 schools wikipedia select...   \n",
       "2   copyright édouard manet 2007 schools wikipedi...   \n",
       "3   copyright éire 2007 schools wikipedia selecti...   \n",
       "4   copyright óengus picts 2007 schools wikipedia...   \n",
       "\n",
       "                                          embeddings  \n",
       "0  [0.04089818894863129, -0.00878914725035429, -0...  \n",
       "1  [0.060515306890010834, -0.026957755908370018, ...  \n",
       "2  [0.08456774055957794, 0.04743683338165283, 0.0...  \n",
       "3  [0.06309432536363602, -0.012940289452672005, 0...  \n",
       "4  [0.02952096424996853, 0.0008616832201369107, 0...  "
      ]
     },
     "execution_count": 175,
     "metadata": {},
     "output_type": "execute_result"
    }
   ],
   "source": [
    "document_mapper.head(5)"
   ]
  },
  {
   "cell_type": "code",
   "execution_count": null,
   "id": "3ac89f1a",
   "metadata": {},
   "outputs": [],
   "source": [
    "document_mapper.to_pickle('df_embeddings.pkl')"
   ]
  },
  {
   "cell_type": "code",
   "execution_count": null,
   "id": "a350d01b",
   "metadata": {},
   "outputs": [],
   "source": []
  },
  {
   "cell_type": "code",
   "execution_count": null,
   "id": "c071bfa0",
   "metadata": {},
   "outputs": [],
   "source": []
  }
 ],
 "metadata": {
  "kernelspec": {
   "display_name": "Python 3 (ipykernel)",
   "language": "python",
   "name": "python3"
  },
  "language_info": {
   "codemirror_mode": {
    "name": "ipython",
    "version": 3
   },
   "file_extension": ".py",
   "mimetype": "text/x-python",
   "name": "python",
   "nbconvert_exporter": "python",
   "pygments_lexer": "ipython3",
   "version": "3.9.12"
  }
 },
 "nbformat": 4,
 "nbformat_minor": 5
}
